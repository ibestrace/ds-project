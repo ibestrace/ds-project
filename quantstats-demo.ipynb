{
 "cells": [
  {
   "cell_type": "code",
   "execution_count": 1,
   "outputs": [
    {
     "data": {
      "text/plain": "'0.0.59'"
     },
     "execution_count": 1,
     "metadata": {},
     "output_type": "execute_result"
    }
   ],
   "source": [
    "import quantstats as qs\n",
    "qs.__version__"
   ],
   "metadata": {
    "collapsed": false
   }
  },
  {
   "cell_type": "code",
   "execution_count": 2,
   "metadata": {
    "collapsed": true
   },
   "outputs": [
    {
     "data": {
      "text/plain": "['adjusted_sortino',\n 'autocorr_penalty',\n 'avg_loss',\n 'avg_return',\n 'avg_win',\n 'best',\n 'cagr',\n 'calmar',\n 'common_sense_ratio',\n 'comp',\n 'compare',\n 'compsum',\n 'conditional_value_at_risk',\n 'consecutive_losses',\n 'consecutive_wins',\n 'cpc_index',\n 'cvar',\n 'distribution',\n 'drawdown_details',\n 'expected_return',\n 'expected_shortfall',\n 'exposure',\n 'gain_to_pain_ratio',\n 'geometric_mean',\n 'ghpr',\n 'greeks',\n 'implied_volatility',\n 'information_ratio',\n 'kelly_criterion',\n 'kurtosis',\n 'max_drawdown',\n 'monthly_returns',\n 'omega',\n 'outlier_loss_ratio',\n 'outlier_win_ratio',\n 'outliers',\n 'payoff_ratio',\n 'pct_rank',\n 'probabilistic_adjusted_sortino_ratio',\n 'probabilistic_ratio',\n 'probabilistic_sharpe_ratio',\n 'probabilistic_sortino_ratio',\n 'profit_factor',\n 'profit_ratio',\n 'r2',\n 'r_squared',\n 'rar',\n 'recovery_factor',\n 'remove_outliers',\n 'risk_of_ruin',\n 'risk_return_ratio',\n 'rolling_greeks',\n 'rolling_sharpe',\n 'rolling_sortino',\n 'rolling_volatility',\n 'ror',\n 'serenity_index',\n 'sharpe',\n 'skew',\n 'smart_sharpe',\n 'smart_sortino',\n 'sortino',\n 'tail_ratio',\n 'to_drawdown_series',\n 'treynor_ratio',\n 'ulcer_index',\n 'ulcer_performance_index',\n 'upi',\n 'value_at_risk',\n 'var',\n 'volatility',\n 'warn',\n 'win_loss_ratio',\n 'win_rate',\n 'worst']"
     },
     "execution_count": 2,
     "metadata": {},
     "output_type": "execute_result"
    }
   ],
   "source": [
    "[f for f in dir(qs.stats) if f[0] != '_']"
   ]
  },
  {
   "cell_type": "code",
   "execution_count": 3,
   "outputs": [
    {
     "data": {
      "text/plain": "['daily_returns',\n 'distribution',\n 'drawdown',\n 'drawdowns_periods',\n 'earnings',\n 'histogram',\n 'log_returns',\n 'monthly_heatmap',\n 'monthly_returns',\n 'returns',\n 'rolling_beta',\n 'rolling_sharpe',\n 'rolling_sortino',\n 'rolling_volatility',\n 'snapshot',\n 'to_plotly',\n 'warnings',\n 'yearly_returns']"
     },
     "execution_count": 3,
     "metadata": {},
     "output_type": "execute_result"
    }
   ],
   "source": [
    "[f for f in dir(qs.plots) if f[0] != '_']"
   ],
   "metadata": {
    "collapsed": false
   }
  },
  {
   "cell_type": "code",
   "execution_count": 5,
   "outputs": [
    {
     "data": {
      "text/plain": "['basic',\n 'full',\n 'html',\n 'iDisplay',\n 'iHTML',\n 'metrics',\n 'plots',\n 'relativedelta']"
     },
     "execution_count": 5,
     "metadata": {},
     "output_type": "execute_result"
    }
   ],
   "source": [
    "[f for f in dir(qs.reports) if f[0] != '_']"
   ],
   "metadata": {
    "collapsed": false
   }
  },
  {
   "cell_type": "code",
   "execution_count": 4,
   "outputs": [
    {
     "name": "stdout",
     "output_type": "stream",
     "text": [
      "Help on function histogram in module quantstats._plotting.wrappers:\n",
      "\n",
      "histogram(returns, resample='M', fontname='Arial', grayscale=False, figsize=(10, 5), ylabel=True, subtitle=True, compounded=True, savefig=None, show=True, prepare_returns=True)\n",
      "\n"
     ]
    }
   ],
   "source": [
    "help(qs.plots.histogram)"
   ],
   "metadata": {
    "collapsed": false
   }
  },
  {
   "cell_type": "code",
   "execution_count": 8,
   "outputs": [
    {
     "name": "stdout",
     "output_type": "stream",
     "text": [
      "Help on function metrics in module quantstats.reports:\n",
      "\n",
      "metrics(returns, benchmark=None, rf=0.0, display=True, mode='basic', sep=False, compounded=True, periods_per_year=252, prepare_returns=True, match_dates=False, **kwargs)\n",
      "\n"
     ]
    }
   ],
   "source": [
    "help(qs.reports.metrics)"
   ],
   "metadata": {
    "collapsed": false
   }
  }
 ],
 "metadata": {
  "kernelspec": {
   "display_name": "Python 3",
   "language": "python",
   "name": "python3"
  },
  "language_info": {
   "codemirror_mode": {
    "name": "ipython",
    "version": 2
   },
   "file_extension": ".py",
   "mimetype": "text/x-python",
   "name": "python",
   "nbconvert_exporter": "python",
   "pygments_lexer": "ipython2",
   "version": "2.7.6"
  }
 },
 "nbformat": 4,
 "nbformat_minor": 0
}
